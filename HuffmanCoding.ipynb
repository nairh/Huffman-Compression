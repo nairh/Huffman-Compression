{
 "cells": [
  {
   "cell_type": "markdown",
   "metadata": {
    "collapsed": true
   },
   "source": [
    "# Huffman Compression Code"
   ]
  },
  {
   "cell_type": "code",
   "execution_count": null,
   "metadata": {
    "collapsed": false
   },
   "outputs": [],
   "source": [
    "import heapq\n",
    "import math\n",
    "from collections import defaultdict\n",
    "import pydot\n",
    "from itertools import count\n",
    "    \n",
    "#class for representing a \"Node\" on the Huffman tree    \n",
    "class node():\n",
    "    _ids = count(0)\n",
    "    def __init__(self, weight, symbol):\n",
    "        self.node = pydot.Node(next(self._ids), label=symbol)\n",
    "        graph.add_node(self.node)\n",
    "        self.weight = weight\n",
    "        self.symbol = symbol\n",
    "        self.left = None\n",
    "        self.right = None\n",
    "        \n",
    "    def addLeft(self, leftNode):\n",
    "        graph.add_edge(pydot.Edge(self.node, leftNode.node, label='0'))\n",
    "        self.left = leftNode\n",
    "        \n",
    "    def addRight(self, rightNode):\n",
    "        graph.add_edge(pydot.Edge(self.node, rightNode.node, label='1'))\n",
    "        self.right = rightNode \n",
    "    \n",
    "    def __lt__(self,other):\n",
    "        return self.weight < other.weight\n",
    "\n",
    "#determines symbol encodings from its position in the tree\n",
    "def getCodings(rootNode, currentEncoding):\n",
    "    if( rootNode.left == None and rootNode.right == None):\n",
    "        codings.append([rootNode.symbol, rootNode.weight, currentEncoding])\n",
    "    if( rootNode.left != None):\n",
    "        getCodings(rootNode.left, currentEncoding + '0')\n",
    "    if( rootNode.right != None):\n",
    "        getCodings(rootNode.right, currentEncoding + '1')\n",
    "    \n",
    "#worker method for making huffman trees\n",
    "def Huffman(str):\n",
    "    #get frequencies from the original string \n",
    "    #(estimate symbol probabilities)\n",
    "    frequencies = defaultdict(int)\n",
    "    for ch in str:\n",
    "        frequencies[ch] += 1\n",
    "    \n",
    "    #creates the forest of symbol nodes \n",
    "    #we use a heap to easily get the minimums\n",
    "    forest = []\n",
    "    for ch, weight in frequencies.items():\n",
    "        forest.append(node(weight, ch))\n",
    "    heap = heapq.heapify(forest)\n",
    "    \n",
    "    #builds the tree from the nodes in the forest \n",
    "    while len(forest) > 1:\n",
    "        node1 = heapq.heappop(forest)\n",
    "        node2 = heapq.heappop(forest)\n",
    "        newNode = node(node1.weight + node2.weight, \"\")\n",
    "        newNode.addLeft(node1)\n",
    "        newNode.addRight(node2)\n",
    "        heapq.heappush(forest, newNode)\n",
    "    \n",
    "    #pull codings and print all the results of the compression \n",
    "    getCodings(forest[0], \"\")\n",
    "    codings.sort(key=lambda x: -x[1])\n",
    "    print(\"{: >15} {: >15} {: >15}\".format(\"Symbol\", \"Weight\", \"Code\"))\n",
    "    unencodedBits = 0\n",
    "    encodedBits = 0\n",
    "    numBits = math.ceil( math.log(len(codings), 2) )\n",
    "    for coding in codings:\n",
    "        print(\"{: >15} {: >15} {: >15}\".format(*coding))\n",
    "        unencodedBits += coding[1] * numBits\n",
    "        encodedBits += coding[1] * len(coding[2])\n",
    "    print(\"Number of bits (uncompressed) = \", unencodedBits)\n",
    "    print(\"Number of bits (compressed) = \", encodedBits)"
   ]
  },
  {
   "cell_type": "markdown",
   "metadata": {
    "collapsed": true
   },
   "source": [
    "# Huffman Compression Examples"
   ]
  },
  {
   "cell_type": "markdown",
   "metadata": {},
   "source": [
    "Huffman Encoding for a Basic Example String:"
   ]
  },
  {
   "cell_type": "code",
   "execution_count": null,
   "metadata": {
    "collapsed": false
   },
   "outputs": [],
   "source": [
    "graph = pydot.Dot(graph_type='graph')\n",
    "codings = []\n",
    "\n",
    "s1 = \"this is an example for huffman encoding\"\n",
    "\n",
    "Huffman(s1)\n",
    "graph.write_png(\"haris.png\")\n",
    "from IPython.display import Image\n",
    "Image(filename='haris.png')"
   ]
  },
  {
   "cell_type": "markdown",
   "metadata": {
    "collapsed": true
   },
   "source": [
    "Huffman Encoding for a text file of Hamlet:"
   ]
  },
  {
   "cell_type": "code",
   "execution_count": null,
   "metadata": {
    "collapsed": false
   },
   "outputs": [],
   "source": [
    "graph = pydot.Dot(graph_type='graph')\n",
    "codings = []\n",
    "\n",
    "import re\n",
    "\n",
    "with open('Hamlet.txt', 'r') as myfile:\n",
    "    s2 = myfile.read().replace('\\n', '')\n",
    "    pattern = re.compile('[^a-zA-Z]')\n",
    "    s2 = pattern.sub('', s2)\n",
    "\n",
    "    \n",
    "Huffman(s2)\n",
    "graph.write_png(\"haris.png\")\n",
    "from IPython.display import Image\n",
    "Image(filename='haris.png')"
   ]
  },
  {
   "cell_type": "markdown",
   "metadata": {
    "collapsed": true
   },
   "source": [
    "Huffman Encoding for a Randomly Generated String: "
   ]
  },
  {
   "cell_type": "code",
   "execution_count": null,
   "metadata": {
    "collapsed": false
   },
   "outputs": [],
   "source": [
    "graph = pydot.Dot(graph_type='graph')\n",
    "codings = []\n",
    "\n",
    "import random, string \n",
    "\n",
    "s3 = ''.join(random.choice(string.ascii_lowercase) for x in range(1000))\n",
    "\n",
    "Huffman(s3)\n",
    "graph.write_png(\"haris.png\")\n",
    "from IPython.display import Image\n",
    "Image(filename='haris.png')"
   ]
  },
  {
   "cell_type": "code",
   "execution_count": null,
   "metadata": {
    "collapsed": true
   },
   "outputs": [],
   "source": []
  }
 ],
 "metadata": {
  "anaconda-cloud": {},
  "kernelspec": {
   "display_name": "Python [default]",
   "language": "python",
   "name": "python3"
  },
  "language_info": {
   "codemirror_mode": {
    "name": "ipython",
    "version": 3
   },
   "file_extension": ".py",
   "mimetype": "text/x-python",
   "name": "python",
   "nbconvert_exporter": "python",
   "pygments_lexer": "ipython3",
   "version": "3.5.2"
  }
 },
 "nbformat": 4,
 "nbformat_minor": 1
}
